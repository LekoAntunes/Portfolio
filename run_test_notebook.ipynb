{
 "cells": [
  {
   "cell_type": "code",
   "execution_count": 1,
   "metadata": {},
   "outputs": [],
   "source": [
    "import json\n",
    "import pandas as pd \n",
    "\n",
    "with open('setup.json') as json_file:\n",
    "    json_data = json.load(json_file)\n",
    "\n",
    "path = json_data['main_path']    \n",
    "report = json_data['reports'] ['br_ifrs15']\n",
    "source = path + report['file']\n",
    "\n",
    "df = pd.read_excel(source, sheet_name='HistRecReceita')"
   ]
  },
  {
   "cell_type": "code",
   "execution_count": 2,
   "metadata": {},
   "outputs": [
    {
     "data": {
      "text/plain": [
       "Index(['Fatura 1', 'Dt Fatura 1', 'Empr', 'Cen.', 'Tipo Fatura SiT 1',\n",
       "       'EmissorOrd', 'Nº ID fiscal 1', 'Nº ID fiscal 2', 'Nome 1', 'Local',\n",
       "       'Rg', 'TipFt', 'CI', 'Doc.venda', 'Doc.ref.', 'Cen.lucro', 'Referência',\n",
       "       'IncTm', 'Status CRR', 'Val.líq.', 'Moeda', 'Fatura 2', 'Dt Fatura 2',\n",
       "       'Tipo Fatura SiT 2', 'Transporte', 'Status: ÁGILE x SAP', 'Texto',\n",
       "       'Data Previsão de Receita', 'EscrV', 'EqVs', 'Mercado',\n",
       "       'Usuário Fatura 2', 'Data Criação Fatura 2',\n",
       "       'Data Contabilização Fatura 2', 'Contabilização Fatura 2', 'Cod Transp',\n",
       "       'Itinerário', 'Data Coleta', 'Nome Transportadora', 'Apelido',\n",
       "       'Tempo Itinerário'],\n",
       "      dtype='object')"
      ]
     },
     "execution_count": 2,
     "metadata": {},
     "output_type": "execute_result"
    }
   ],
   "source": [
    "df.columns"
   ]
  },
  {
   "cell_type": "code",
   "execution_count": 3,
   "metadata": {},
   "outputs": [],
   "source": [
    "def check_market():\n",
    "    \n",
    "    for r in df.index:\n",
    "        e = df.loc[r, 'Mercado']\n",
    "        \n",
    "        if pd.isnull(e):\n",
    "            k = df.loc[r, 'TipFt']\n",
    "            vl = 'BR'\n",
    "            \n",
    "            if k == 'ZVEX' or k == 'ZEXT':\n",
    "                vl = 'EXPO'\n",
    "                \n",
    "            df.loc[r, 'Mercado'] = vl"
   ]
  },
  {
   "cell_type": "code",
   "execution_count": 4,
   "metadata": {},
   "outputs": [],
   "source": [
    "check_market()"
   ]
  },
  {
   "cell_type": "code",
   "execution_count": 5,
   "metadata": {},
   "outputs": [
    {
     "data": {
      "text/plain": [
       "0     BR\n",
       "1     BR\n",
       "2     BR\n",
       "3     BR\n",
       "4     BR\n",
       "      ..\n",
       "95    BR\n",
       "96    BR\n",
       "97    BR\n",
       "98    BR\n",
       "99    BR\n",
       "Name: Mercado, Length: 100, dtype: object"
      ]
     },
     "execution_count": 5,
     "metadata": {},
     "output_type": "execute_result"
    }
   ],
   "source": [
    "df['Mercado']"
   ]
  }
 ],
 "metadata": {
  "kernelspec": {
   "display_name": "Python 3",
   "language": "python",
   "name": "python3"
  },
  "language_info": {
   "codemirror_mode": {
    "name": "ipython",
    "version": 3
   },
   "file_extension": ".py",
   "mimetype": "text/x-python",
   "name": "python",
   "nbconvert_exporter": "python",
   "pygments_lexer": "ipython3",
   "version": "3.12.0"
  }
 },
 "nbformat": 4,
 "nbformat_minor": 2
}
